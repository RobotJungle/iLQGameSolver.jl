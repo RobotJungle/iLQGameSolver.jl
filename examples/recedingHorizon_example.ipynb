{
 "cells": [
  {
   "cell_type": "code",
   "execution_count": 1,
   "metadata": {},
   "outputs": [
    {
     "name": "stderr",
     "output_type": "stream",
     "text": [
      "\u001b[32m\u001b[1m  Activating\u001b[22m\u001b[39m environment at `~/.julia/dev/iLQGameSolver/examples/Project.toml`\n"
     ]
    },
    {
     "ename": "Pkg.Types.PkgError",
     "evalue": "`ForwardDiff` is a direct dependency, but does not appear in the manifest. If you intend `ForwardDiff` to be a direct dependency, run `Pkg.resolve()` to populate the manifest. Otherwise, remove `ForwardDiff` with `Pkg.rm(\"ForwardDiff\")`. Finally, run `Pkg.instantiate()` again.",
     "output_type": "error",
     "traceback": [
      "`ForwardDiff` is a direct dependency, but does not appear in the manifest. If you intend `ForwardDiff` to be a direct dependency, run `Pkg.resolve()` to populate the manifest. Otherwise, remove `ForwardDiff` with `Pkg.rm(\"ForwardDiff\")`. Finally, run `Pkg.instantiate()` again.\n",
      "\n",
      "Stacktrace:\n",
      " [1] pkgerror(::String, ::Vararg{String, N} where N)\n",
      "   @ Pkg.Types /Users/julia/buildbot/worker/package_macos64/build/usr/share/julia/stdlib/v1.6/Pkg/src/Types.jl:55\n",
      " [2] instantiate(ctx::Pkg.Types.Context; manifest::Nothing, update_registry::Bool, verbose::Bool, platform::Base.BinaryPlatforms.Platform, allow_build::Bool, allow_autoprecomp::Bool, kwargs::Base.Iterators.Pairs{Union{}, Union{}, Tuple{}, NamedTuple{(), Tuple{}}})\n",
      "   @ Pkg.API /Users/julia/buildbot/worker/package_macos64/build/usr/share/julia/stdlib/v1.6/Pkg/src/API.jl:1353\n",
      " [3] instantiate\n",
      "   @ /Users/julia/buildbot/worker/package_macos64/build/usr/share/julia/stdlib/v1.6/Pkg/src/API.jl:1325 [inlined]\n",
      " [4] #instantiate#252\n",
      "   @ /Users/julia/buildbot/worker/package_macos64/build/usr/share/julia/stdlib/v1.6/Pkg/src/API.jl:1321 [inlined]\n",
      " [5] instantiate()\n",
      "   @ Pkg.API /Users/julia/buildbot/worker/package_macos64/build/usr/share/julia/stdlib/v1.6/Pkg/src/API.jl:1321\n",
      " [6] top-level scope\n",
      "   @ ~/.julia/dev/iLQGameSolver/examples/recedingHorizon_example.ipynb:1"
     ]
    }
   ],
   "source": [
    "import Pkg; Pkg.activate(@__DIR__); Pkg.instantiate();\n",
    "#import Pkg; Pkg.activate(joinpath(@__DIR__,\"..\")); Pkg.instantiate()"
   ]
  },
  {
   "cell_type": "code",
   "execution_count": 2,
   "metadata": {},
   "outputs": [],
   "source": [
    "using Revise\n",
    "using LinearAlgebra\n",
    "using Plots\n",
    "using SparseArrays\n",
    "using Random\n",
    "using Test\n",
    "using StaticArrays\n",
    "using iLQGameSolver\n",
    "using BenchmarkTools"
   ]
  },
  {
   "cell_type": "markdown",
   "metadata": {},
   "source": [
    "### 2D Point Mass Continous dynamics\n",
    "\n",
    "The 2D point masses with mass $m=1\\; \\text{kg}$ are subject to input forces $F_{ext}$ and damping coefficient $c = 0.1\\;[N \\cdot \\frac{s}{m}]$.\n",
    "\n",
    "\n",
    "\\begin{split}\n",
    "\\dot p &= v\\\\\n",
    "\\dot v &= -\\frac{b}{m}v + \\frac{1}{m}F_{ext}\n",
    "\\end{split}"
   ]
  },
  {
   "cell_type": "markdown",
   "metadata": {},
   "source": [
    "#### Point Mass Discrete"
   ]
  },
  {
   "cell_type": "markdown",
   "metadata": {},
   "source": [
    "The discrete time linear dynamics for two 2D point masses are as described below: \n",
    "$$\\begin{equation}\n",
    "    x_{t+1} = A_tx_t + B^1_tu^1_t + B^2_tu^2_t\n",
    "\\end{equation} $$\n",
    "where the $A_t$ matrix is:\n",
    "$$\\begin{equation}\n",
    "    A_t = \\begin{bmatrix}   1 & 0 & h & 0 & 0 & 0 & 0 & 0               \\\\ \n",
    "                            0 & 1 & 0 & h & 0 & 0 & 0 & 0               \\\\ \n",
    "                            0 & 0 & 1-(c/m_1)*h & 0 & 0 & 0 & 0 & 0     \\\\ \n",
    "                            0 & 0 & 0 & 1-(c/m_1)*h & 0 & 0 & 0 & 0     \\\\\n",
    "                            0 & 0 & 0 & 0 & 1 & 0 & h & 0               \\\\ \n",
    "                            0 & 0 & 0 & 0 & 0 & 1 & 0 & h               \\\\ \n",
    "                            0 & 0 & 0 & 0 & 0 & 0 & 1-(c/m_2)*h & 0     \\\\ \n",
    "                            0 & 0 & 0 & 0 & 0 & 0 & 0 & 1-(c/m_2)*h     \\\\ \n",
    "    \\end{bmatrix}\n",
    "\\end{equation} $$\n",
    "the $B^1_t$ and $B^2_t$ matrices are:\n",
    "$$\\begin{equation}\n",
    "    B^1_t = \\begin{bmatrix} 0 & 0       \\\\ \n",
    "                            0 & 0       \\\\ \n",
    "                            h/m_1 & 0   \\\\ \n",
    "                            0 & h/m_1   \\\\ \n",
    "                            0 & 0       \\\\ \n",
    "                            0 & 0       \\\\ \n",
    "                            0 & 0       \\\\ \n",
    "                            0 & 0       \\\\\n",
    "    \\end{bmatrix},\n",
    "    B^2_t = \\begin{bmatrix} 0 & 0       \\\\ \n",
    "                            0 & 0       \\\\ \n",
    "                            0 & 0       \\\\ \n",
    "                            0 & 0       \\\\ \n",
    "                            0 & 0       \\\\ \n",
    "                            0 & 0       \\\\ \n",
    "                            h/m_2 & 0   \\\\ \n",
    "                            0 & h/m_2   \\\\\n",
    "    \\end{bmatrix}\n",
    "\\end{equation} $$\n",
    "the $x_t$, $u^1_t$, and $u^2_t$ vectors are:\n",
    "$$\\begin{equation}\n",
    "    x_t = \\begin{bmatrix}   x_1         \\\\ \n",
    "                            y_1         \\\\ \n",
    "                            \\dot{x}_1   \\\\ \n",
    "                            \\dot{y}_1   \\\\ \n",
    "                            x_2 \\\\ y_2  \\\\ \n",
    "                            \\dot{x}_2   \\\\ \n",
    "                            \\dot{y}_2   \\\\\n",
    "    \\end{bmatrix},\n",
    "    u^1_t = \\begin{bmatrix} u^1_x   \\\\\n",
    "                            u^1_y   \\\\\n",
    "    \\end{bmatrix},\n",
    "    u^2_t = \\begin{bmatrix} u^2_x   \\\\ \n",
    "                            u^2_y   \\\\ \n",
    "    \\end{bmatrix}\n",
    "\\end{equation} $$\n",
    "\n",
    "The variables $c$, $h$, $m_1$, and $m_2$ are the damping coefficients [N-s/m], time steps [s], mass of the first agent [kg], and mass of the second agent [kg], respectively.\n",
    "\n",
    "$$\\begin{bmatrix} S11 & S12 \\\\ S21 & S22 \\end{bmatrix}\n",
    "\\begin{bmatrix} P1 \\\\ P2 \\end{bmatrix} = \n",
    "\\begin{bmatrix} Y1 \\\\ Y2 \\end{bmatrix}$$\n",
    "\n",
    "$$ \\begin{bmatrix} R^{11} + (B^{1'} * V₁ * B^1) & (B^{1'} * V₁ * B^2) \\\\ (B^{2'} * V_2 * B^1) & R^{22} + (B^{2'} * V_2 * B^2) \\end{bmatrix}$$\n",
    "\n",
    "<!-- $$ \\frac{d}{dt}x = Ax + \\sum Bu$$\n",
    "\n",
    "Single 2D point mass:\n",
    "$$\\frac{d}{dt}\\begin{bmatrix} x \\\\ y \\\\ \\dot{x} \\\\ \\dot{y}\\end{bmatrix} =  \n",
    " \\begin{bmatrix} 0 & 0 & 1 & 0 \\\\ 0 & 0 & 0 & 1 \\\\ 0 & 0 & -c/m & 0 \\\\ 0 & 0 & 0 & -c/m \\end{bmatrix}\n",
    " \\begin{bmatrix} x \\\\ y \\\\ \\dot{x} \\\\ \\dot{y}\\end{bmatrix} + \n",
    " \\begin{bmatrix} 0 & 0 \\\\ 0 & 0 \\\\ 1/m & 0 \\\\ 0 & 1/m \\end{bmatrix}\n",
    " \\begin{bmatrix} u_x \\\\ u_y\\end{bmatrix} $$\n",
    "\n",
    "two 2D point masses:\n",
    "$$\\frac{d}{dt}\\begin{bmatrix} x_1 \\\\ y_1 \\\\ \\dot{x}_1 \\\\ \\dot{y}_1 \\\\ x_2 \\\\ y_2 \\\\ \\dot{x}_2 \\\\ \\dot{y}_2\\end{bmatrix} =  \n",
    " \\begin{bmatrix} 0 & 0 & 1 & 0 & 0 & 0 & 0 & 0\\\\ \n",
    "                0 & 0 & 0 & 1 & 0 & 0 & 0 & 0 \\\\ \n",
    "                0 & 0 & -c/m_1 & 0 & 0 & 0 & 0 & 0\\\\ \n",
    "                0 & 0 & 0 & -c/m_1 & 0 & 0 & 0 & 0\\\\\n",
    "                0 & 0 & 0 & 0 & 0 & 0 & 1 & 0\\\\ \n",
    "                0 & 0 & 0 & 0 & 0 & 0 & 0 & 1\\\\ \n",
    "                0 & 0 & 0 & 0 & 0 & 0 & -c/m_2 & 0\\\\ \n",
    "                0 & 0 & 0 & 0 & 0 & 0 & 0 & -c/m_2\\\\ \\end{bmatrix}\n",
    " \\begin{bmatrix} x_1 \\\\ y_1 \\\\ \\dot{x}_1 \\\\ \\dot{y}_1 \\\\ x_2 \\\\ y_2 \\\\ \\dot{x}_2 \\\\ \\dot{y}_2\\end{bmatrix} + \n",
    " \\begin{bmatrix} 0 & 0 \\\\ 0 & 0 \\\\ 1/m_1 & 0 \\\\ 0 & 1/m_1 \\\\ 0 & 0 \\\\ 0 & 0 \\\\ 0 & 0 \\\\ 0 & 0\\end{bmatrix}\n",
    " \\begin{bmatrix} u_x^1 \\\\ u_y^1 \\end{bmatrix} +\n",
    " \\begin{bmatrix} 0 & 0 \\\\ 0 & 0 \\\\ 0 & 0 \\\\ 0 & 0 \\\\ 0 & 0 \\\\ 0 & 0 \\\\ 1/m_2 & 0 \\\\ 0 & 1/m_2\\end{bmatrix}\n",
    " \\begin{bmatrix} u_x^2 \\\\ u_y^2 \\end{bmatrix}  $$ -->\n"
   ]
  },
  {
   "cell_type": "code",
   "execution_count": 3,
   "metadata": {},
   "outputs": [
    {
     "name": "stdout",
     "output_type": "stream",
     "text": [
      "100\n"
     ]
    }
   ],
   "source": [
    "# Setup the problem\n",
    "\n",
    "dt = 0.1                    # Step size [s]\n",
    "tf = 10.0                    # Horizon [s]\n",
    "N = Int(tf/dt)         # Number of steps (knot points)\n",
    "println(N)\n",
    "\n",
    "# Define cost matrices \n",
    "nx = 4 \n",
    "nu = 2\n",
    "Nplayer = 3\n",
    "\n",
    "Nu = nu * Nplayer\n",
    "Nx = nx * Nplayer\n",
    "\n",
    "Q1 = sparse(zeros(Nx,Nx))     # State cost for agent 1\n",
    "Q1[1:nx,1:nx] .= 3.0*I(nx)\n",
    "Qn1 = Q1                    # Terminal cost for agent 1\n",
    "\n",
    "Q2 = sparse(zeros(Nx,Nx))     # State cost for agent 2\n",
    "Q2[nx+1:2*nx,nx+1:2*nx] .= 3.0*I(nx)\n",
    "Qn2 = Q2                    # Terminal cost for agent 2\n",
    "\n",
    "Q3 = sparse(zeros(Nx,Nx))     # State cost for agent 2\n",
    "Q3[2*nx+1:3*nx,2*nx+1:3*nx] .= 3.0*I(nx)\n",
    "Qn3 = Q3                    # Terminal cost for agent 2\n",
    "\n",
    "R11 = sparse(1.0*I(2))              # Control cost for player 1\n",
    "R12 = sparse(0.0*I(2))     # Control cost for player 1 associated with player 2's controls\n",
    "R13 = sparse(0.0*I(2))     # Control cost for player 2 associated with player 1's controls\n",
    "R21 = sparse(0.0*I(2))     # Control cost for player 2 associated with player 1's controls\n",
    "R22 = sparse(1.0*I(2))              # Contorl cost for player 2\n",
    "R23 = sparse(0.0*I(2))     # Control cost for player 2 associated with player 1's controls\n",
    "R31 = sparse(0.0*I(2))     # Control cost for player 2 associated with player 1's controls\n",
    "R32 = sparse(0.0*I(2))     # Control cost for player 2 associated with player 1's controls\n",
    "R33 = sparse(1.0*I(2))     # Control cost for player 2 associated with player 1's controls\n",
    "\n",
    "dmax = 2.0                  # Distance that both agents should keep between each other [m]\n",
    "ρ = 500.0                   # Penalty factor for violating the distance constraint\n",
    "\n",
    "# Q's are stacked vertically\n",
    "Q = sparse(zeros(Float32, Nx*Nplayer, Nx))\n",
    "# @show size([Q1; Q2; Q3]), size(Q)\n",
    "#Q .= [Q1; Q2]\n",
    "Q .= [Q1; Q2; Q3]\n",
    "\n",
    "# Qn's are stacked vertically\n",
    "Qn = sparse(zeros(Float32, Nx*Nplayer, Nx))\n",
    "#Qn .= [Qn1; Qn2]\n",
    "Qn .= [Qn1; Qn2; Qn3]\n",
    "\n",
    "# R's are stacked as a matrix\n",
    "R = sparse(zeros(Float32, Nu, Nu))\n",
    "#R .= [R11 R12; R21 R22]\n",
    "R .= [R11 R12 R13; R21 R22 R23; R31 R32 R33]\n",
    "\n",
    "NHor = 20\n",
    "tol = 1e-1\n",
    "\n",
    "game = iLQGameSolver.GameSetup(nx, nu, Nplayer, Q, R, Qn, dt, tf, NHor, dmax, ρ, tol)\n",
    "\n",
    "solver = iLQGameSolver.iLQSetup(Nx, Nu, Nplayer, NHor);"
   ]
  },
  {
   "cell_type": "code",
   "execution_count": 4,
   "metadata": {},
   "outputs": [],
   "source": [
    "# Initial and final states\n",
    "# x₁, y₁, ̇x₁, ̇y₁, x₂, y₂, ̇x₂, ̇y₂       \n",
    "\n",
    "x₀= [   5.0; 0.0; 0.0; 0.0; \n",
    "        0.0; 5.0; 0.0; 0.0; \n",
    "        0.0; 0.0; 0.0; 0.0] \n",
    "        # Initial state\n",
    "\n",
    "xgoal = [   5.0; 10.0; 0.0; 0.0; \n",
    "            10.0; 5.0; 0.0; 0.0; \n",
    "            10.0; 10.0; 0.0; 0.0]   \n",
    "        # Final state\n",
    "\n",
    "# Input constraints\n",
    "umax = [2.0, 2.0, \n",
    "        2.0, 2.0, \n",
    "        2.0, 2.0]   \n",
    "\n",
    "umin = [-2.0, -2.0, \n",
    "        -2.0, -2.0, \n",
    "        -2.0, -2.0]\n",
    "\n",
    "ugoal = [   0.0, 0.0, \n",
    "            0.0, 0.0,  \n",
    "            0.0, 0.0]     \n",
    "\n",
    "game.x0 .= x₀\n",
    "game.xf .= xgoal\n",
    "game.umin .= umin\n",
    "game.umax .= umax\n",
    "game.uf .= ugoal;"
   ]
  },
  {
   "cell_type": "code",
   "execution_count": 5,
   "metadata": {},
   "outputs": [],
   "source": [
    "X, U = iLQGameSolver.recedingHorizon(game, solver, iLQGameSolver.pointMass, iLQGameSolver.costPointMass);"
   ]
  },
  {
   "cell_type": "code",
   "execution_count": null,
   "metadata": {},
   "outputs": [],
   "source": [
    "X[end,:,:]"
   ]
  },
  {
   "cell_type": "code",
   "execution_count": null,
   "metadata": {},
   "outputs": [],
   "source": [
    "xend = X[end,:,:]\n",
    "\n",
    "@test xend[1] ≈ xgoal[1] atol=1e-2 \n",
    "@test xend[2] ≈ xgoal[2] atol=1e-2 \n",
    "@test xend[3] ≈ xgoal[3] atol=1e-2 \n",
    "@test xend[4] ≈ xgoal[4] atol=1e-2 \n",
    "@test xend[5] ≈ xgoal[5] atol=1e-2 \n",
    "@test xend[6] ≈ xgoal[6] atol=1e-2 \n",
    "@test xend[7] ≈ xgoal[7] atol=1e-2 \n",
    "@test xend[8] ≈ xgoal[8] atol=1e-2 \n",
    "@test xend[9] ≈ xgoal[9] atol=1e-2 \n",
    "@test xend[10] ≈ xgoal[10] atol=1e-2 \n",
    "@test xend[11] ≈ xgoal[11] atol=1e-2 \n",
    "@test xend[12] ≈ xgoal[12] atol=1e-2 "
   ]
  },
  {
   "cell_type": "code",
   "execution_count": null,
   "metadata": {},
   "outputs": [],
   "source": [
    "# Animation of the solution. GIF is saved in the assets folder.\n",
    "\n",
    "anim = @animate for t in 1:N-1\n",
    "    scatter([X[t,1,:]], [X[t,2,:]], m = (:circle, 12),\n",
    "    xlims = (-1, 11), \n",
    "    ylims = (-1, 11), \n",
    "    legend = false)\n",
    "    scatter!([X[t,5,:]], [X[t,6,:]], m = (:circle, 12))\n",
    "    scatter!([X[t,9,:]], [X[t,10,:]], m = (:circle, 12))\n",
    "    plot!([xgoal[1]], [xgoal[2]], m = (:cross, 12, :blue))\n",
    "    plot!([xgoal[5]], [xgoal[6]], m = (:cross, 12, :red))\n",
    "    plot!([xgoal[9]], [xgoal[10]], m = (:cross, 12, :green))\n",
    "end every 1;\n",
    "gif(anim, \"assets/gifs/recedingHorizonNoise.gif\")"
   ]
  },
  {
   "cell_type": "code",
   "execution_count": null,
   "metadata": {},
   "outputs": [],
   "source": [
    "# Trajectories of that the agents followed\n",
    "\n",
    "plot([X[:,1,:]], [X[:,2,:]], xlims = (-1, 11), ylims = (-1, 11), legend = false)\n",
    "plot!([X[:,5,:]], [X[:,6,:]])\n",
    "plot!([X[:,9,:]], [X[:,10,:]])\n",
    "plot!([xgoal[1]], [xgoal[2]], m = (:cross, 12, :blue))\n",
    "plot!([xgoal[5]], [xgoal[6]], m = (:cross, 12, :red))\n",
    "plot!([xgoal[9]], [xgoal[10]], m = (:cross, 12, :green))"
   ]
  },
  {
   "cell_type": "code",
   "execution_count": null,
   "metadata": {},
   "outputs": [],
   "source": [
    "# Agent 1's input values \n",
    "# y1: F in x \n",
    "# y2: F in y\n",
    "\n",
    "plot(U[:,1:2])"
   ]
  },
  {
   "cell_type": "code",
   "execution_count": null,
   "metadata": {},
   "outputs": [],
   "source": [
    "# Agent 2's input values \n",
    "# y1: F in x \n",
    "# y2: F in y\n",
    "\n",
    "plot(U[:,3:4])"
   ]
  },
  {
   "cell_type": "code",
   "execution_count": null,
   "metadata": {},
   "outputs": [],
   "source": [
    "# Agent 3's input values \n",
    "# y1: F in x \n",
    "# y2: F in y\n",
    "\n",
    "plot(U[:,5:6])"
   ]
  },
  {
   "cell_type": "code",
   "execution_count": null,
   "metadata": {},
   "outputs": [],
   "source": []
  }
 ],
 "metadata": {
  "kernelspec": {
   "display_name": "Julia 1.6.7",
   "language": "julia",
   "name": "julia-1.6"
  },
  "language_info": {
   "file_extension": ".jl",
   "mimetype": "application/julia",
   "name": "julia",
   "version": "1.6.7"
  },
  "vscode": {
   "interpreter": {
    "hash": "aee8b7b246df8f9039afb4144a1f6fd8d2ca17a180786b69acc140d282b71a49"
   }
  }
 },
 "nbformat": 4,
 "nbformat_minor": 2
}
